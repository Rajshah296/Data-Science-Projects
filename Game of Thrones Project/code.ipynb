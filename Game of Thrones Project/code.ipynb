{
 "cells": [
  {
   "cell_type": "code",
   "execution_count": 44,
   "metadata": {},
   "outputs": [],
   "source": [
    "import pandas as pd\n",
    "import numpy as np\n",
    "import opendatasets as od\n",
    "import pickle"
   ]
  },
  {
   "cell_type": "code",
   "execution_count": 45,
   "metadata": {},
   "outputs": [
    {
     "name": "stdout",
     "output_type": "stream",
     "text": [
      "Skipping, found downloaded files in \".\\game-of-thrones-data\" (use force=True to force download)\n"
     ]
    }
   ],
   "source": [
    "od.download(\"https://www.kaggle.com/datasets/mathurinache/game-of-thrones-data?select=script-bag-of-words.json\")"
   ]
  },
  {
   "cell_type": "code",
   "execution_count": 46,
   "metadata": {},
   "outputs": [
    {
     "data": {
      "text/html": [
       "<div>\n",
       "<style scoped>\n",
       "    .dataframe tbody tr th:only-of-type {\n",
       "        vertical-align: middle;\n",
       "    }\n",
       "\n",
       "    .dataframe tbody tr th {\n",
       "        vertical-align: top;\n",
       "    }\n",
       "\n",
       "    .dataframe thead th {\n",
       "        text-align: right;\n",
       "    }\n",
       "</style>\n",
       "<table border=\"1\" class=\"dataframe\">\n",
       "  <thead>\n",
       "    <tr style=\"text-align: right;\">\n",
       "      <th></th>\n",
       "      <th>seasonNum</th>\n",
       "      <th>episodeNum</th>\n",
       "      <th>episodeTitle</th>\n",
       "      <th>text</th>\n",
       "    </tr>\n",
       "    <tr>\n",
       "      <th>episodeAlt</th>\n",
       "      <th></th>\n",
       "      <th></th>\n",
       "      <th></th>\n",
       "      <th></th>\n",
       "    </tr>\n",
       "  </thead>\n",
       "  <tbody>\n",
       "    <tr>\n",
       "      <th>S1E1</th>\n",
       "      <td>1</td>\n",
       "      <td>1</td>\n",
       "      <td>Winter Is Coming</td>\n",
       "      <td>[{'text': 'Easy, boy.', 'name': 'Will'}, {'tex...</td>\n",
       "    </tr>\n",
       "    <tr>\n",
       "      <th>S1E2</th>\n",
       "      <td>1</td>\n",
       "      <td>2</td>\n",
       "      <td>The Kingsroad</td>\n",
       "      <td>[{'text': 'And You child... drink, eat. need t...</td>\n",
       "    </tr>\n",
       "    <tr>\n",
       "      <th>S1E3</th>\n",
       "      <td>1</td>\n",
       "      <td>3</td>\n",
       "      <td>Lord Snow</td>\n",
       "      <td>[{'text': 'Council. Grand Lord Maester Pycelle...</td>\n",
       "    </tr>\n",
       "    <tr>\n",
       "      <th>S1E4</th>\n",
       "      <td>1</td>\n",
       "      <td>4</td>\n",
       "      <td>Cripples, Bastards, and Broken Things</td>\n",
       "      <td>[{'text': 'Lord's The again. been dreaming lit...</td>\n",
       "    </tr>\n",
       "    <tr>\n",
       "      <th>S1E5</th>\n",
       "      <td>1</td>\n",
       "      <td>5</td>\n",
       "      <td>The Wolf and the Lion</td>\n",
       "      <td>[{'text': 'Does Hugh Ser any capital? family h...</td>\n",
       "    </tr>\n",
       "  </tbody>\n",
       "</table>\n",
       "</div>"
      ],
      "text/plain": [
       "            seasonNum  episodeNum                           episodeTitle  \\\n",
       "episodeAlt                                                                 \n",
       "S1E1                1           1                       Winter Is Coming   \n",
       "S1E2                1           2                          The Kingsroad   \n",
       "S1E3                1           3                              Lord Snow   \n",
       "S1E4                1           4  Cripples, Bastards, and Broken Things   \n",
       "S1E5                1           5                  The Wolf and the Lion   \n",
       "\n",
       "                                                         text  \n",
       "episodeAlt                                                     \n",
       "S1E1        [{'text': 'Easy, boy.', 'name': 'Will'}, {'tex...  \n",
       "S1E2        [{'text': 'And You child... drink, eat. need t...  \n",
       "S1E3        [{'text': 'Council. Grand Lord Maester Pycelle...  \n",
       "S1E4        [{'text': 'Lord's The again. been dreaming lit...  \n",
       "S1E5        [{'text': 'Does Hugh Ser any capital? family h...  "
      ]
     },
     "execution_count": 46,
     "metadata": {},
     "output_type": "execute_result"
    }
   ],
   "source": [
    "df = pd.read_json(\"game-of-thrones-data/script-bag-of-words.json\").set_index('episodeAlt')\n",
    "df.head()"
   ]
  },
  {
   "cell_type": "code",
   "execution_count": 47,
   "metadata": {},
   "outputs": [
    {
     "data": {
      "text/plain": [
       "[{'name': 'Tyrion Lannister', 'text': \"I'll find later. you\"},\n",
       " {'name': 'Jon Snow', 'text': \"It's Let me men not safe. send some with you.\"},\n",
       " {'name': 'Tyrion Lannister', 'text': \"I'm alone. going\"},\n",
       " {'name': 'Grey Worm',\n",
       "  'text': 'Daenerys I In Queen, Targaryen, die. name of one sentence the the to true you'},\n",
       " {'name': 'Jon Snow',\n",
       "  'text': \"Grey It's These Worm! are men over. prisoners.\"},\n",
       " {'name': 'Grey Worm',\n",
       "  'text': \"It Queen's are defeated. enemies is not over the until\"},\n",
       " {'name': 'Davos Seaworth',\n",
       "  'text': \"How They're be? defeated do knees. more much on their them to want you\"},\n",
       " {'name': 'Grey Worm', 'text': 'They are breathing.'},\n",
       " {'name': 'Davos Seaworth', 'text': 'Look We around friend. won. you,'},\n",
       " {'name': 'Grey Worm', 'text': \"I commands, my not obey queen's yours.\"},\n",
       " {'name': 'Jon Snow', 'text': \"And Queen's are commands? the what\"},\n",
       " {'name': 'Grey Worm',\n",
       "  'text': '\"Kill Cersei Lannister.\" These They all are chose fight follow for free her. men. to who'},\n",
       " {'name': 'Davos Seaworth',\n",
       "  'text': 'Easy! Easy, Easy. Jon. Queen. We men. should speak the with'},\n",
       " {'name': 'Dothraki Bloodrider #1', 'text': 'Hyah!'},\n",
       " {'lang': 'Dothraki',\n",
       "  'name': 'Daenerys Targaryen',\n",
       "  'translation': 'Blood Kingdoms! Seven You You You You all blood. down enemies gave houses. in iron kept killed me me. my my of promises stone suits. the their their to tore your',\n",
       "  'text': ''},\n",
       " {'lang': 'High Valyrian',\n",
       "  'name': 'Daenerys Targaryen',\n",
       "  'translation': \"Grey I Master Plaza Pride. Queen's War. Worm. You You all are beside bravest commander forces, have loyal me men, most my name of of of of of since soldiers. the the the the walked you\",\n",
       "  'text': ''},\n",
       " {'lang': 'High Valyrian',\n",
       "  'name': 'Daenerys Targaryen',\n",
       "  'translation': \"All But Dorne, From Isles Jade King's Landing Lannisport Now... Qarth, Sea! Summer Unsullied. We Will Winterfell Women, You a all and and are arms as beneath break children down freed from from from from grip have have have is lay liberated liberators! long me? men mothers' not not of of of of our over. people people raised slaves. spears suffered the the the the the the the the the to to to too torn tyrant! until war we were wheel wheel. will with world! you you you your\",\n",
       "  'text': ''},\n",
       " {'name': 'Daenerys Targaryen',\n",
       "  'text': 'You You brother. committed freed treason. your'},\n",
       " {'name': 'Tyrion Lannister',\n",
       "  'text': 'And I a brother. city. freed my slaughtered you'},\n",
       " {'lang': 'High Valyrian',\n",
       "  'name': 'Daenerys Targaryen',\n",
       "  'translation': 'Take him.',\n",
       "  'text': ''},\n",
       " {'name': 'Jon Snow', 'text': 'Hey, What are doing happened? here? what you'},\n",
       " {'name': 'Arya Stark',\n",
       "  'text': 'Cersei. I Your came first. got kill queen there to'},\n",
       " {'name': 'Jon Snow', 'text': \"She's everyone's now. queen\"},\n",
       " {'name': 'Arya Stark', 'text': 'Sansa. Try telling'},\n",
       " {'name': 'Jon Snow',\n",
       "  'text': \"I'll Wait city come find for gates. me outside the you.\"},\n",
       " {'name': 'Arya Stark',\n",
       "  'text': \"And I I Jon. She Who You'll a a always are. are. be her. killer know knows one. really see threat to when who you you\"},\n",
       " {'name': 'Tyrion Lannister', 'text': 'Did any bring wine? you'},\n",
       " {'name': 'Jon Snow', 'text': 'No.'},\n",
       " {'name': 'Tyrion Lannister',\n",
       "  'text': '\"See, Ah... I I I I\\'m I\\'m It Now Our So Varys\\'s Well... a after alive and ashes ashes: betrayed burn. can closest coming crude death? doesn\\'t for for friend going. him is just justice. keep kind knows life long. man me. me. my my occurred of only prisoners queen see suppose talking tell thank the there there\\'s to to to told watched where who you you.\"'},\n",
       " {'name': 'Jon Snow', 'text': \"I've Not seen. that\"},\n",
       " {'name': 'Tyrion Lannister',\n",
       "  'text': 'I I I I I Oblivion a be best betrayed could crossbow. father for. hope is lover. my my my own queen. shot should strangled thankful. the with'},\n",
       " {'name': 'Jon Snow', 'text': \"You didn't.\"},\n",
       " {'name': 'Tyrion Lannister',\n",
       "  'text': \"And I I I'd I've I've King's Landing The again, chose did did. do fate. it my not. now of people seen seen. that what\"},\n",
       " {'name': 'Jon Snow',\n",
       "  'text': \"But I I can't happened. is justify now. over the try. war what won't\"},\n",
       " {'name': 'Tyrion Lannister',\n",
       "  'text': \"And Bay. Is King's Landing. She She Slaver's When all. and are did done fighting? free... go heard her her it? liberated liberated liberating like of of of on people people people rules she she she'll soldiers, someone sound talking the the the the them to until who's world you\"},\n",
       " {'name': 'Jon Snow',\n",
       "  'text': \"And Until been by counseling her her. side, today. you've\"},\n",
       " {'name': 'Tyrion Lannister',\n",
       "  'text': \"I I It Our Until Varys and blood. could fire guide her. is nature queen's right. think to today. vanity was was was wrong.\"},\n",
       " {'name': 'Jon Snow',\n",
       "  'text': \"I'd Lannister. She's Then Tywin You and and are are? be blood, bodies born father, fire her house more no not on our our stamped than that's think too. we we're when who words you're\"},\n",
       " {'name': 'Tyrion Lannister',\n",
       "  'text': \"My My Pile a all all an an as as be beautiful bodies day. ever evil evil father half in killed, man. many of our people queen single sister slaughtered still the the there they up was was woman. won't\"},\n",
       " {'name': 'Jon Snow', 'text': 'Cersei choice. her left no'},\n",
       " {'name': 'Tyrion Lannister',\n",
       "  'text': 'The battle fell, gates moment over. the the was'},\n",
       " {'name': 'Jon Snow',\n",
       "  'text': 'She She beheaded. dragon friend her her of out saw saw shot sky. the'},\n",
       " {'name': 'Tyrion Lannister', 'text': 'And a burned city down for it. she'},\n",
       " {'name': 'Jon Snow',\n",
       "  'text': \"Aye, battlefield. easy far from it's judge standing the to when you're\"},\n",
       " {'name': 'Tyrion Lannister', 'text': 'Would done have it? you'},\n",
       " {'name': 'Jon Snow', 'text': 'What?'},\n",
       " {'name': 'Tyrion Lannister',\n",
       "  'text': \"Would You've You've a back. been burned city down? dragon's had have on power. that the there, up you\"},\n",
       " {'name': 'Jon Snow', 'text': \"I don't know.\"},\n",
       " {'name': 'Tyrion Lannister',\n",
       "  'text': \"Yes, You because betray but do. don't her... know. say to want won't you you you\"},\n",
       " {'name': 'Jon Snow', 'text': \"I'd What's do? it matter what\"},\n",
       " {'name': 'Tyrion Lannister',\n",
       "  'text': \"After And Astapor, Dothraki Everywhere I'm If It Meereenese She The They They When When a alive? all, and and and and anything. argue? believed believed believes better between build burned but cheer complained. could crucified destiny die done everyone. evil evil evil for for goes, good grows have her her her. hundreds if is is it, it. khals kill matters men men. men. more more more murdered no nobles, of of one paradise? powerful right. she she she she she she slavers slavers stood sure sure than that that... the the they to to truly we were were who whoever world worse would wouldn't you you you you\"},\n",
       " {'name': 'Tyrion Lannister',\n",
       "  'text': 'But I I I Look Love Not We all all as as at believed brother. heart. her her, her. in is know know love love more my my powerful reason. successfully than that. too. with you you.'},\n",
       " {'name': 'Jon Snow', 'text': '\"Love death duty.\" is of the'},\n",
       " {'name': 'Tyrion Lannister', 'text': 'You came just that? up with'},\n",
       " {'name': 'Jon Snow', 'text': 'Aemon Maester a ago. it long said time'},\n",
       " {'name': 'Tyrion Lannister',\n",
       "  'text': \"And Do I'm I'm Iron It's It's No Sometimes Throne? Who Who You a also always are asking. cost, dangerous death do duty execute? greatest guards heir is is is last love. man matter men. more now? of of people people. protect realms right right rightful she'll shield terrible than that the the the the the the the the the the the thing thing. thing. think threat to to to to tried tried you you've you've\"},\n",
       " {'name': 'Jon Snow',\n",
       "  'text': \"I'm Queen. She That's came decision. her is it sorry the this. to\"},\n",
       " {'name': 'Tyrion Lannister',\n",
       "  'text': 'And Do bending knee? see sisters? the them you your'},\n",
       " {'name': 'Jon Snow', 'text': 'My be loyal sisters the throne. to will'},\n",
       " {'name': 'Tyrion Lannister',\n",
       "  'text': \"Because Dany Sansa Why about be do doesn't me queen. she the think to told truth want you you?\"},\n",
       " {'name': 'Jon Snow', 'text': \"She choose. doesn't get to\"},\n",
       " {'name': 'Tyrion Lannister',\n",
       "  'text': 'And But No. choose do. have now. to you you'},\n",
       " {'name': 'Daenerys Targaryen',\n",
       "  'text': \"1,000 1,000 20? Aegon's Aegon's I I So What When a a a brother can't climb. could count do enemies, enemies. fallen fallen feet. from girl girl, high imagined in it like little look made many me mind mountain my of of of only see soles swords swords swords the the to to told too was was who with you\"},\n",
       " {'name': 'Jon Snow',\n",
       "  'text': 'I Lannister They acting executing in on orders. prisoners said saw street. the them they were your'},\n",
       " {'name': 'Daenerys Targaryen', 'text': 'It necessary. was'},\n",
       " {'name': 'Jon Snow',\n",
       "  'text': 'Children, Have Have Necessary? been burned! children, down little seen? there? you you'},\n",
       " {'name': 'Daenerys Targaryen',\n",
       "  'text': 'Cersei. I She She a against as cripple innocence it make me. me. peace their thought to tried used weapon with would'},\n",
       " {'name': 'Jon Snow', 'text': 'And Tyrion?'},\n",
       " {'name': 'Daenerys Targaryen',\n",
       "  'text': \"He How back behind broke conspired done enemies. even have heart? it my my people same the to treated when who've with you you, your\"},\n",
       " {'name': 'Jon Snow', 'text': 'Forgive him.'},\n",
       " {'name': 'Daenerys Targaryen', 'text': \"I can't.\"},\n",
       " {'name': 'Jon Snow',\n",
       "  'text': 'Dany. Make Please, You You a all can can. forgive made make mistake. of see them them them, they understand.'},\n",
       " {'name': 'Daenerys Targaryen',\n",
       "  'text': \"The We be behind built by can't have. hide loyal men mercies. need small the to we we won't world world\"},\n",
       " {'name': 'Jon Snow',\n",
       "  'text': 'It The a be. has is mercy. need of to we world world'},\n",
       " {'name': 'Daenerys Targaryen',\n",
       "  'text': \"A And It's be. been before. easy good it never not see something that's to will world.\"},\n",
       " {'name': 'Jon Snow',\n",
       "  'text': \"How How be do do good? it'll know know? you you\"},\n",
       " {'name': 'Daenerys Targaryen',\n",
       "  'text': 'And Because I do good. is know so what you.'},\n",
       " {'name': 'Jon Snow', 'text': \"I don't.\"},\n",
       " {'name': 'Daenerys Targaryen',\n",
       "  'text': \"You You You've always do. do. known.\"},\n",
       " {'name': 'Jon Snow',\n",
       "  'text': \"All What about else? everyone good. know other people the they think what's who\"},\n",
       " {'name': 'Daenerys Targaryen',\n",
       "  'text': \"20. Be Build I It They This We We a a a and bastard's been beginning, boy break choose. couldn't count do don't from get girl has is it little little me. me. name new our reason. since the the the to to together. together. was were wheel who with with with world you\"},\n",
       " {'name': 'Jon Snow', 'text': 'Now, You always. and are my queen.'},\n",
       " {'name': 'Sansa Stark', 'text': \"Jon? Where's\"},\n",
       " {'name': 'Grey Worm', 'text': 'He is our prisoner.'},\n",
       " {'name': 'Sansa Stark',\n",
       "  'text': 'Lord So They Tyrion. be both brought gathering. is this to to were'},\n",
       " {'name': 'Grey Worm',\n",
       "  'text': 'This We city decide do is now. our our prisoners. we what will with'},\n",
       " {'name': 'Sansa Stark',\n",
       "  'text': \"If Jon Northmen Snow city, explain find harming in interest. is look not of of outside the thousands to walls who why will you you you'll your your\"},\n",
       " {'name': 'Grey Worm',\n",
       "  'text': 'And Unsullied believe find is. it of that thousands who will you'},\n",
       " {'name': 'Yara Greyjoy',\n",
       "  'text': 'Daenerys I Ironborn Some Targaryen. The are be follow forgive. may not. of quick swore to to you'},\n",
       " {'name': 'Sansa Stark', 'text': 'You a follow swore to tyrant.'},\n",
       " {'name': 'Yara Greyjoy',\n",
       "  'text': 'Cersei Jon Let She Snow Unsullied a a and because deserves. freed from give gone he heart. her her, him in is knife of put the tyrant. us what'},\n",
       " {'name': 'Arya Stark',\n",
       "  'text': \"I'll Say about and another brother cut killing my throat. word your\"},\n",
       " {'name': 'Davos Seaworth',\n",
       "  'text': \"Am Friends, Good House I If Make Nudho. Reach. Start The There This Thousands Torgo Unsullied We We've We've You a a and are as bannermen. been better but can country cutting dead. debt each ends. enough enough. find for gone. had how in is it it it it know land land. let live long lost men, need never of of other's owes own own. people please. properly? repay, saying that that the the the the them. there thousands throats to to try. us used war war. way. we weren't with with would've you you you, your your your your\"},\n",
       " {'name': 'Grey Worm',\n",
       "  'text': 'Jon Snow We We cannot do free. go justice. need need not payment.'},\n",
       " {'name': 'Tyrion Lannister', 'text': \"It's decide. for not to you\"},\n",
       " {'name': 'Grey Worm',\n",
       "  'text': 'Everyone You are enough from has heard here not speak! to words you.'},\n",
       " {'name': 'Tyrion Lannister',\n",
       "  'text': \"And But His Jon Or You're any better committed crime decide. decide. fate for for for here. his is it's it. king no not one's our our queen. right. to to you\"},\n",
       " {'name': 'Yohn Royce', 'text': \"We a don't have king or queen.\"},\n",
       " {'name': 'Tyrion Lannister',\n",
       "  'text': \"Choose Westeros. You're in most one. people powerful the\"},\n",
       " {'name': 'Grey Worm', 'text': 'Make choice, then. your'},\n",
       " {'name': 'Edmure Tully',\n",
       "  'text': 'A And I I I My What and and annals as before country. decide experience has history. important in in is ladies... led like lives. lords lords moment most my of of of of one our reverberate senior skill small some stand statecraft suppose the the the the think this through to to today two underst... veteran wars. we will you'},\n",
       " {'name': 'Sansa Stark', 'text': 'Please Uncle? sit.'},\n",
       " {'name': 'Yohn Royce', 'text': 'Well, choose have someone. to we'},\n",
       " {'name': 'Samwell Tarly',\n",
       "  'text': \"Houses, Maybe Um, Um... We Why about ahem... all and be best but choose, decision everyone everyone. for great just just ladies. left lords over represent rule should the the they to... us? we well, what's whomever won't\"},\n",
       " {'name': 'Edmure Tully',\n",
       "  'text': 'Maybe a as dogs give should the vote we well.'},\n",
       " {'name': 'Yohn Royce', 'text': \"I'll ask horse. my\"},\n",
       " {'name': 'Edmure Tully', 'text': 'I crown. suppose the want you'},\n",
       " {'name': 'Tyrion Lannister',\n",
       "  'text': \"Can't Daenerys, Half Imp? Me? The a betraying choice. for for half hate hate her. me me of other people serving the the think worse\"},\n",
       " {'name': 'Davos Seaworth', 'text': 'Who, then?'},\n",
       " {'name': 'Tyrion Lannister',\n",
       "  'text': \"About About And Armies? Bran Broken? Flags? Gold? He He He I've No Nothing Our Raven. Stories. The The There's Three-Eyed Wall, What Who a a a a again, all and and became better better beyond births, bloody boy boy, but can can crippled crossed defeat defeats, do enemy famines. fell few fly. from future? good had has he he'd high history. in into is it. it. keeper knew lead learned lived. made. massacres, memory, mistakes mm, more never nothing nothing of our our our our our past past. people? powerful so stop stories. story. story... than than the the the the the the the these think to to to tower triumphs, unites us walk wars, we've weddings, weeks. who who world\"},\n",
       " {'name': 'Sansa Stark',\n",
       "  'text': \"Bran and can't children. father has he in interest no ruling\"},\n",
       " {'name': 'Tyrion Lannister',\n",
       "  'text': \"But From Good. His I I I Kingdoms Realm. Seven Sons That They Westeros... Will abilities about and and as ask be be be best born. break. by can care choose chosen crown? cruel day day? don't don't from if is it. kings know know know. ladies last lead lords never not now now, of of of on on, our power. queen rulers serve spot stupid, the the the the the the this this to to to torment until us. want wanted we wear well wheel will will will will you you you you you you you... your your\"},\n",
       " {'name': 'Bran Stark', 'text': 'I Why all came do think this way? you'},\n",
       " {'name': 'Tyrion Lannister',\n",
       "  'text': 'Brandon House I Stark... To aye. of say'},\n",
       " {'name': 'Samwell Tarly', 'text': 'Aye.'},\n",
       " {'name': 'Edmure Tully', 'text': 'Aye.'},\n",
       " {'name': 'Lord #1', 'text': 'Aye.'},\n",
       " {'name': 'Lord #2', 'text': 'Aye.'},\n",
       " {'name': 'Yohn Royce', 'text': 'Aye.'},\n",
       " {'name': 'Robin Arryn', 'text': 'Aye.'},\n",
       " {'name': 'Dornish Lord', 'text': 'Aye.'},\n",
       " {'name': 'Yara Greyjoy', 'text': 'Aye.'},\n",
       " {'name': 'Lord #3', 'text': 'Aye.'},\n",
       " {'name': 'Lord #4', 'text': 'Aye.'},\n",
       " {'name': 'Gendry', 'text': 'Aye.'},\n",
       " {'name': 'Davos Seaworth', 'text': \"I I'm a aye. but get not sure vote,\"},\n",
       " {'name': 'Brienne of Tarth', 'text': 'Aye.'},\n",
       " {'name': 'Sansa Stark',\n",
       "  'text': \"And But Great I I North Northmen The War Westeros. You'll a again. all always an and as be brother. defending ever fell for fought good hard have in independent it king. kingdom, kneel little love much of of of of remain seen survived tens the those thousands thousands to too too was who will will. years. you,\"},\n",
       " {'name': 'Tyrion Lannister',\n",
       "  'text': 'All Andals Bran Broken, First First His King Kingdoms Lord Men, Name, Protector Realm. Six and and hail of of of of the the the the the'},\n",
       " {'name': 'Samwell Tarly', 'text': 'All Bran Broken! hail the'},\n",
       " {'name': 'Edmure Tully', 'text': 'All Bran Broken! hail the'},\n",
       " {'name': 'Lord #1', 'text': 'All Bran Broken! hail the'},\n",
       " {'name': 'Lord #2', 'text': 'All Bran Broken! hail the'},\n",
       " {'name': 'Yohn Royce', 'text': 'All Bran Broken! hail the'},\n",
       " {'name': 'Robin Arryn', 'text': 'All Bran Broken! hail the'},\n",
       " {'name': 'Dornish Lord', 'text': 'All Bran Broken! hail the'},\n",
       " {'name': 'Yara Greyjoy', 'text': 'All Bran Broken! hail the'},\n",
       " {'name': 'Lord #3', 'text': 'All Bran Broken! hail the'},\n",
       " {'name': 'Lord #4', 'text': 'All Bran Broken! hail the'},\n",
       " {'name': 'Gendry', 'text': 'All Bran Broken! hail the'},\n",
       " {'name': 'Davos Seaworth', 'text': 'All Bran Broken! hail the'},\n",
       " {'name': 'Brienne of Tarth', 'text': 'All Bran Broken! hail the'},\n",
       " {'name': 'Bran Stark', 'text': 'Hand. Lord Tyrion... be my will you'},\n",
       " {'name': 'Tyrion Lannister', 'text': \"Grace, I N... No, Your don't it. want\"},\n",
       " {'name': 'Bran Stark', 'text': \"And I be don't king. to want\"},\n",
       " {'name': 'Tyrion Lannister',\n",
       "  'text': \"Choose Choose Davos. I I I I I I I Ser anyone but but deserve didn't. don't else. it. knew right, thought thought was was wasn't. what wise,\"},\n",
       " {'name': 'Bran Stark', 'text': 'I choose you.'},\n",
       " {'name': 'Grey Worm', 'text': 'You cannot.'},\n",
       " {'name': 'Bran Stark', 'text': \"I I'm Yes, can. king.\"},\n",
       " {'name': 'Grey Worm', 'text': 'He This a criminal. deserves is justice. man'},\n",
       " {'name': 'Bran Stark',\n",
       "  'text': \"He He's He's fixing going got his it. just life made many mistakes. of rest spend terrible the them. to\"},\n",
       " {'name': 'Grey Worm', 'text': 'It enough. is not'},\n",
       " {'name': 'Tyrion Lannister',\n",
       "  'text': \"Giving Letting Night's So Unsullied Watch. a a chosen free has king new our send start start the the to to to walk war. war. would would you you you\"},\n",
       " {'name': 'Jon Snow', 'text': \"Night's There's Watch? a still\"},\n",
       " {'name': 'Tyrion Lannister',\n",
       "  'text': \"Arya Grey I No Sansa The The Unsullied Which Worm You a a a accepted always and and bastards broken but but children. compromise, course, father for freed, good happy. has head hold home is it's justice king lands, life make means men. need needs new no no no of of one our peace. sentence. shall suppose. take the they to understand very wanted wanted wife, will world you your\"},\n",
       " {'name': 'Jon Snow', 'text': 'I Was What did? it right?'},\n",
       " {'name': 'Tyrion Lannister', 'text': 'What did. we'},\n",
       " {'name': 'Jon Snow', 'text': \"It doesn't feel right.\"},\n",
       " {'name': 'Tyrion Lannister', 'text': '10 Ask again in me years.'},\n",
       " {'name': 'Jon Snow',\n",
       "  'text': \"I again. don't each ever expect other see we'll\"},\n",
       " {'name': 'Tyrion Lannister',\n",
       "  'text': \"A Hand I King anyone as be edge few make of of off piss so sure. the the the to want world. would wouldn't years\"},\n",
       " {'lang': 'Astapori Valyrian',\n",
       "  'name': 'Unsullied #1',\n",
       "  'translation': 'All boarded. have men the',\n",
       "  'text': ''},\n",
       " {'lang': 'Astapori Valyrian',\n",
       "  'name': 'Grey Worm',\n",
       "  'translation': 'Good. Isle Naath. We for of sail the',\n",
       "  'text': ''},\n",
       " {'name': 'Sansa Stark',\n",
       "  'text': 'Can I another been forgive had me? there way. wish you'},\n",
       " {'name': 'Jon Snow', 'text': 'North The free, is thanks to you.'},\n",
       " {'name': 'Sansa Stark', 'text': 'But king. lost their they'},\n",
       " {'name': 'Jon Snow',\n",
       "  'text': \"Ned She's Stark's ask best could daughter for for. speak the them. they will\"},\n",
       " {'name': 'Jon Snow',\n",
       "  'text': 'Black. Castle You at can come know, me, see you'},\n",
       " {'name': 'Arya Stark', 'text': \"I can't.\"},\n",
       " {'name': 'Jon Snow',\n",
       "  'text': \"You allowed? anyone aren't dare tell think will women you\"},\n",
       " {'name': 'Arya Stark', 'text': \"I'm back going north. not\"},\n",
       " {'name': 'Sansa Stark', 'text': 'Where are going? you'},\n",
       " {'name': 'Arya Stark', 'text': \"Westeros? What's of west\"},\n",
       " {'name': 'Jon Snow', 'text': \"I don't know.\"},\n",
       " {'name': 'Arya Stark',\n",
       "  'text': \"I'm It's No That's all going. knows. maps one stop. the where where\"},\n",
       " {'name': 'Jon Snow', 'text': 'Needle? You have your'},\n",
       " {'name': 'Arya Stark', 'text': 'Right here.'},\n",
       " {'name': 'Jon Snow',\n",
       "  'text': \"Grace. I I'm Your me. needed sorry there wasn't when you\"},\n",
       " {'name': 'Bran Stark',\n",
       "  'text': 'You be. exactly supposed to were were where you'},\n",
       " {'name': 'Tyrion Lannister', 'text': \"That's Uh... What's not... this?\"},\n",
       " {'name': 'Samwell Tarly',\n",
       "  'text': '\"A Archmaester Ebrose\\'s Fire\". I Ice King Robert. Song and death following helped him history of of of the the the title. wars with'},\n",
       " {'name': 'Tyrion Lannister',\n",
       "  'text': 'I I come criticism. for heavy in some suppose'},\n",
       " {'name': 'Samwell Tarly', 'text': \"I Oh, say that. wouldn't\"},\n",
       " {'name': 'Tyrion Lannister',\n",
       "  'text': \"He's Never Oh, guessed. he's kind kind? me. not to would've\"},\n",
       " {'name': 'Samwell Tarly', 'text': 'He...'},\n",
       " {'name': 'Tyrion Lannister', 'text': 'He What about does he me? say what?'},\n",
       " {'name': 'Samwell Tarly', 'text': \"I ahem. believe don't mentioned, you're\"},\n",
       " {'name': 'Tyrion Lannister', 'text': 'Grace. Your'},\n",
       " {'name': 'Samwell Tarly', 'text': 'Grace. Your'},\n",
       " {'name': 'Bronn', 'text': 'Grace. Your'},\n",
       " {'name': 'Davos Seaworth', 'text': 'Grace. Your'},\n",
       " {'name': 'Bran Stark',\n",
       "  'text': 'And And Laws. Master Master Master War. We Whisperers. a a a appear be missing of of of to'},\n",
       " {'name': 'Tyrion Lannister',\n",
       "  'text': 'Grace. Suitable Yes, Your an audience be brought coming for in prospects the to weeks. will you'},\n",
       " {'name': 'Bran Stark', 'text': 'And Any Drogon? word?'},\n",
       " {'name': 'Samwell Tarly',\n",
       "  'text': 'He east, flying last spotted toward... was'},\n",
       " {'name': 'Bronn', 'text': 'The away, better. farther the'},\n",
       " {'name': 'Bran Stark',\n",
       "  'text': 'Do I Perhaps can carry find him. on rest. the with'},\n",
       " {'name': 'Tyrion Lannister', 'text': 'As Grace. Your wish, you'},\n",
       " {'name': 'Brienne of Tarth', 'text': 'Podrick. Ser'},\n",
       " {'name': 'Tyrion Lannister',\n",
       "  'text': 'Bran Broken, King Kingdoms Long Protector Realm. Six We and at he may of of pleasure, reign. ruler serve the the the your'},\n",
       " {'name': 'Samwell Tarly', 'text': 'Long he may reign.'},\n",
       " {'name': 'Davos Seaworth', 'text': 'Long he may reign.'},\n",
       " {'name': 'Brienne of Tarth', 'text': 'Long he may reign.'},\n",
       " {'name': 'Bronn', 'text': 'Long he may reign.'},\n",
       " {'name': 'Tyrion Lannister', 'text': 'That improve. will'},\n",
       " {'name': 'Bran Stark', 'text': \"I'm it sure will.\"},\n",
       " {'name': 'Tyrion Lannister',\n",
       "  'text': \"Blackwater, Bronn Coin, Crown's Highgarden, Lord Lord Master Paramount Reach Ser and been debt has of of of of paid? say the the the to would you you\"},\n",
       " {'name': 'Bronn', 'text': 'Hand. In Lord full, my'},\n",
       " {'name': 'Tyrion Lannister',\n",
       "  'text': 'Can Good. Time We a assistance expect feed. have hungry in incurring new one. people regard? some start this to to we'},\n",
       " {'name': 'Bronn', 'text': 'Indeed can. we'},\n",
       " {'name': 'Tyrion Lannister',\n",
       "  'text': 'Davos, Lord an and armada have ports rebuild repair. to to we'},\n",
       " {'name': 'Davos Seaworth',\n",
       "  'text': 'Coin Lofty Lord Master These Titles We and as as begin funding. have. of of projects provides soon the will'},\n",
       " {'name': 'Bronn',\n",
       "  'text': \"Coin Master Master Ships, The be but coin, coin. ensure first forward has he helping looks more no not of of or soon the there to to wasting we're won't\"},\n",
       " {'name': 'Davos Seaworth', 'text': '\"Any more.\"'},\n",
       " {'name': 'Bronn', 'text': 'Grammar Master You now, of too?'},\n",
       " {'name': 'Tyrion Lannister',\n",
       "  'text': 'Casterly Grandmaester, Rock a ahem, based clean healthier is it leads my my of on on population. sewers, that the theory, to water work years'},\n",
       " {'name': 'Samwell Tarly',\n",
       "  'text': 'Archmaester The and done has it on out... research some subject this turns'},\n",
       " {'name': 'Bronn', 'text': \"The and don't. live strong the weak\"},\n",
       " {'name': 'Tyrion Lannister',\n",
       "  'text': 'Find and best builders set task. the the them to'},\n",
       " {'name': 'Bronn',\n",
       "  'text': 'Coin Master Oh, The all best brothels builders, burned down. fund is of of reconstruction. speaking the to willing'},\n",
       " {'name': 'Samwell Tarly',\n",
       "  'text': 'Archmaester Uh... about brothels. effects enthusiastic is less of salutary than the the'},\n",
       " {'name': 'Bronn', 'text': \"I Well, he imagine isn't properly. them using\"},\n",
       " {'name': 'Brienne of Tarth',\n",
       "  'text': 'I agree all brothels. can over precedence ships take that think we'},\n",
       " {'name': 'Bronn', 'text': \"I a presumptuous statement. that's think very\"},\n",
       " {'name': 'Tyrion Lannister',\n",
       "  'text': 'I a a a and brothel. brought honeycomb into jackass once'},\n",
       " {'name': 'Stark Bannerman', 'text': 'North! Queen The in the'},\n",
       " {'name': 'Stark Bannermen',\n",
       "  'text': 'North! North! North! North! North! Queen Queen Queen Queen Queen The The The The The in in in in in the the the the the'}]"
      ]
     },
     "execution_count": 47,
     "metadata": {},
     "output_type": "execute_result"
    }
   ],
   "source": [
    "df.iloc[-1]['text']"
   ]
  },
  {
   "cell_type": "code",
   "execution_count": 48,
   "metadata": {},
   "outputs": [],
   "source": [
    "dialogue = {}\n",
    "for index,row in df.iterrows():\n",
    "    for item in row['text']:\n",
    "        if item['name'] in dialogue:\n",
    "            dialogue[item['name']] = dialogue[item['name']] + item['text']\n",
    "        else:\n",
    "            dialogue[item['name']] = item['text'] + \" \""
   ]
  },
  {
   "cell_type": "code",
   "execution_count": 49,
   "metadata": {},
   "outputs": [
    {
     "data": {
      "text/plain": [
       "817"
      ]
     },
     "execution_count": 49,
     "metadata": {},
     "output_type": "execute_result"
    }
   ],
   "source": [
    "len(dialogue)"
   ]
  },
  {
   "cell_type": "code",
   "execution_count": 50,
   "metadata": {},
   "outputs": [],
   "source": [
    "new_df = pd.DataFrame(columns=[\"Character name\", \"Words\", \"Word Count\"])\n",
    "new_df['Character name'] = dialogue.keys()\n",
    "new_df['Words'] = dialogue.values()\n",
    "new_df[\"Word Count\"] = new_df['Words'].apply(lambda x:len(x.split()))"
   ]
  },
  {
   "cell_type": "code",
   "execution_count": 51,
   "metadata": {},
   "outputs": [],
   "source": [
    "new_df = new_df.sort_values(ascending=False,by=\"Word Count\")"
   ]
  },
  {
   "cell_type": "code",
   "execution_count": 52,
   "metadata": {},
   "outputs": [
    {
     "data": {
      "text/plain": [
       "Character name                                        Doran Martell\n",
       "Words             Captain. Let her pass. By Oberyn a by combat. ...\n",
       "Word Count                                                      501\n",
       "Name: 451, dtype: object"
      ]
     },
     "execution_count": 52,
     "metadata": {},
     "output_type": "execute_result"
    }
   ],
   "source": [
    "new_df.iloc[91,:]"
   ]
  },
  {
   "cell_type": "code",
   "execution_count": 53,
   "metadata": {},
   "outputs": [],
   "source": [
    "new_df = new_df[(new_df['Word Count'] >= 500)]"
   ]
  },
  {
   "cell_type": "code",
   "execution_count": 54,
   "metadata": {},
   "outputs": [
    {
     "data": {
      "text/plain": [
       "(92, 3)"
      ]
     },
     "execution_count": 54,
     "metadata": {},
     "output_type": "execute_result"
    }
   ],
   "source": [
    "new_df.shape"
   ]
  },
  {
   "cell_type": "code",
   "execution_count": 56,
   "metadata": {},
   "outputs": [],
   "source": [
    "from sklearn.feature_extraction.text import CountVectorizer\n",
    "cv = CountVectorizer(stop_words=\"english\")"
   ]
  },
  {
   "cell_type": "code",
   "execution_count": 57,
   "metadata": {},
   "outputs": [],
   "source": [
    "embeddings = cv.fit_transform(new_df['Words']).toarray()"
   ]
  },
  {
   "cell_type": "code",
   "execution_count": 58,
   "metadata": {},
   "outputs": [
    {
     "data": {
      "text/plain": [
       "(92, 15194)"
      ]
     },
     "execution_count": 58,
     "metadata": {},
     "output_type": "execute_result"
    }
   ],
   "source": [
    "embeddings.shape"
   ]
  },
  {
   "cell_type": "code",
   "execution_count": 59,
   "metadata": {},
   "outputs": [],
   "source": [
    "embeddings = embeddings.astype('float64')"
   ]
  },
  {
   "cell_type": "code",
   "execution_count": 60,
   "metadata": {},
   "outputs": [],
   "source": [
    "from sklearn.manifold import TSNE"
   ]
  },
  {
   "cell_type": "code",
   "execution_count": 62,
   "metadata": {},
   "outputs": [
    {
     "name": "stdout",
     "output_type": "stream",
     "text": [
      "[t-SNE] Computing 91 nearest neighbors...\n",
      "[t-SNE] Indexed 92 samples in 0.009s...\n",
      "[t-SNE] Computed neighbors for 92 samples in 3.389s...\n",
      "[t-SNE] Computed conditional probabilities for sample 92 / 92\n",
      "[t-SNE] Mean sigma: 16.560709\n",
      "[t-SNE] KL divergence after 250 iterations with early exaggeration: 56.788578\n",
      "[t-SNE] KL divergence after 750 iterations: 0.254762\n"
     ]
    }
   ],
   "source": [
    "tsne = TSNE(n_components=2,verbose=1,random_state=123)\n",
    "z = tsne.fit_transform(embeddings)"
   ]
  },
  {
   "cell_type": "code",
   "execution_count": 63,
   "metadata": {},
   "outputs": [
    {
     "data": {
      "text/plain": [
       "(92, 2)"
      ]
     },
     "execution_count": 63,
     "metadata": {},
     "output_type": "execute_result"
    }
   ],
   "source": [
    "z.shape"
   ]
  },
  {
   "cell_type": "code",
   "execution_count": 64,
   "metadata": {},
   "outputs": [
    {
     "data": {
      "text/html": [
       "<div>\n",
       "<style scoped>\n",
       "    .dataframe tbody tr th:only-of-type {\n",
       "        vertical-align: middle;\n",
       "    }\n",
       "\n",
       "    .dataframe tbody tr th {\n",
       "        vertical-align: top;\n",
       "    }\n",
       "\n",
       "    .dataframe thead th {\n",
       "        text-align: right;\n",
       "    }\n",
       "</style>\n",
       "<table border=\"1\" class=\"dataframe\">\n",
       "  <thead>\n",
       "    <tr style=\"text-align: right;\">\n",
       "      <th></th>\n",
       "      <th>Character name</th>\n",
       "      <th>Words</th>\n",
       "      <th>Word Count</th>\n",
       "      <th>x</th>\n",
       "      <th>y</th>\n",
       "    </tr>\n",
       "  </thead>\n",
       "  <tbody>\n",
       "    <tr>\n",
       "      <th>17</th>\n",
       "      <td>Tyrion Lannister</td>\n",
       "      <td>It Mmh. Northern about girls. is say the they ...</td>\n",
       "      <td>25924</td>\n",
       "      <td>-1.027815</td>\n",
       "      <td>-5.102725</td>\n",
       "    </tr>\n",
       "    <tr>\n",
       "      <th>13</th>\n",
       "      <td>Cersei Lannister</td>\n",
       "      <td>And And Casterly One Rock. When about afraid. ...</td>\n",
       "      <td>14294</td>\n",
       "      <td>-0.897913</td>\n",
       "      <td>-4.897999</td>\n",
       "    </tr>\n",
       "    <tr>\n",
       "      <th>3</th>\n",
       "      <td>Jon Snow</td>\n",
       "      <td>Father's Go on. watching. And mother. yourBran...</td>\n",
       "      <td>11488</td>\n",
       "      <td>-1.039271</td>\n",
       "      <td>-4.697813</td>\n",
       "    </tr>\n",
       "    <tr>\n",
       "      <th>20</th>\n",
       "      <td>Daenerys Targaryen</td>\n",
       "      <td>We've a and anything. asked been for for guest...</td>\n",
       "      <td>11202</td>\n",
       "      <td>-0.327270</td>\n",
       "      <td>-4.638791</td>\n",
       "    </tr>\n",
       "    <tr>\n",
       "      <th>12</th>\n",
       "      <td>Jaime Lannister</td>\n",
       "      <td>As I It's brother, duty feel it's much. my sho...</td>\n",
       "      <td>10823</td>\n",
       "      <td>-0.888325</td>\n",
       "      <td>-4.703313</td>\n",
       "    </tr>\n",
       "    <tr>\n",
       "      <th>...</th>\n",
       "      <td>...</td>\n",
       "      <td>...</td>\n",
       "      <td>...</td>\n",
       "      <td>...</td>\n",
       "      <td>...</td>\n",
       "    </tr>\n",
       "    <tr>\n",
       "      <th>590</th>\n",
       "      <td>Randyll Tarly</td>\n",
       "      <td>That's enough of that. Not already? enough fat...</td>\n",
       "      <td>581</td>\n",
       "      <td>0.667622</td>\n",
       "      <td>0.917512</td>\n",
       "    </tr>\n",
       "    <tr>\n",
       "      <th>315</th>\n",
       "      <td>Karl Tanner</td>\n",
       "      <td>Whose cut, gonna man? old throat you It's and ...</td>\n",
       "      <td>576</td>\n",
       "      <td>0.801468</td>\n",
       "      <td>0.521908</td>\n",
       "    </tr>\n",
       "    <tr>\n",
       "      <th>320</th>\n",
       "      <td>Selyse Baratheon</td>\n",
       "      <td>Burn For Help I Lord, Protect Use and and as a...</td>\n",
       "      <td>542</td>\n",
       "      <td>0.521088</td>\n",
       "      <td>0.588699</td>\n",
       "    </tr>\n",
       "    <tr>\n",
       "      <th>596</th>\n",
       "      <td>Lyanna Mormont</td>\n",
       "      <td>Bear Island. Welcome to I My Robb. She She a a...</td>\n",
       "      <td>534</td>\n",
       "      <td>-0.298424</td>\n",
       "      <td>1.346392</td>\n",
       "    </tr>\n",
       "    <tr>\n",
       "      <th>451</th>\n",
       "      <td>Doran Martell</td>\n",
       "      <td>Captain. Let her pass. By Oberyn a by combat. ...</td>\n",
       "      <td>501</td>\n",
       "      <td>0.723679</td>\n",
       "      <td>0.767697</td>\n",
       "    </tr>\n",
       "  </tbody>\n",
       "</table>\n",
       "<p>92 rows × 5 columns</p>\n",
       "</div>"
      ],
      "text/plain": [
       "         Character name                                              Words  \\\n",
       "17     Tyrion Lannister  It Mmh. Northern about girls. is say the they ...   \n",
       "13     Cersei Lannister  And And Casterly One Rock. When about afraid. ...   \n",
       "3              Jon Snow  Father's Go on. watching. And mother. yourBran...   \n",
       "20   Daenerys Targaryen  We've a and anything. asked been for for guest...   \n",
       "12      Jaime Lannister  As I It's brother, duty feel it's much. my sho...   \n",
       "..                  ...                                                ...   \n",
       "590       Randyll Tarly  That's enough of that. Not already? enough fat...   \n",
       "315         Karl Tanner  Whose cut, gonna man? old throat you It's and ...   \n",
       "320    Selyse Baratheon  Burn For Help I Lord, Protect Use and and as a...   \n",
       "596      Lyanna Mormont  Bear Island. Welcome to I My Robb. She She a a...   \n",
       "451       Doran Martell  Captain. Let her pass. By Oberyn a by combat. ...   \n",
       "\n",
       "     Word Count         x         y  \n",
       "17        25924 -1.027815 -5.102725  \n",
       "13        14294 -0.897913 -4.897999  \n",
       "3         11488 -1.039271 -4.697813  \n",
       "20        11202 -0.327270 -4.638791  \n",
       "12        10823 -0.888325 -4.703313  \n",
       "..          ...       ...       ...  \n",
       "590         581  0.667622  0.917512  \n",
       "315         576  0.801468  0.521908  \n",
       "320         542  0.521088  0.588699  \n",
       "596         534 -0.298424  1.346392  \n",
       "451         501  0.723679  0.767697  \n",
       "\n",
       "[92 rows x 5 columns]"
      ]
     },
     "execution_count": 64,
     "metadata": {},
     "output_type": "execute_result"
    }
   ],
   "source": [
    "new_df['x'] = z.T[0]\n",
    "new_df['y'] = z.T[1]\n",
    "new_df"
   ]
  },
  {
   "cell_type": "code",
   "execution_count": 67,
   "metadata": {},
   "outputs": [
    {
     "data": {
      "application/vnd.plotly.v1+json": {
       "config": {
        "plotlyServerURL": "https://plot.ly"
       },
       "data": [
        {
         "hovertemplate": "Character name=Tyrion Lannister<br>x=%{x}<br>y=%{y}<extra></extra>",
         "legendgroup": "Tyrion Lannister",
         "marker": {
          "color": "#636efa",
          "symbol": "circle"
         },
         "mode": "markers",
         "name": "Tyrion Lannister",
         "orientation": "v",
         "showlegend": true,
         "type": "scatter",
         "x": [
          -1.0278154611587524
         ],
         "xaxis": "x",
         "y": [
          -5.102725028991699
         ],
         "yaxis": "y"
        },
        {
         "hovertemplate": "Character name=Cersei Lannister<br>x=%{x}<br>y=%{y}<extra></extra>",
         "legendgroup": "Cersei Lannister",
         "marker": {
          "color": "#EF553B",
          "symbol": "circle"
         },
         "mode": "markers",
         "name": "Cersei Lannister",
         "orientation": "v",
         "showlegend": true,
         "type": "scatter",
         "x": [
          -0.8979127407073975
         ],
         "xaxis": "x",
         "y": [
          -4.897999286651611
         ],
         "yaxis": "y"
        },
        {
         "hovertemplate": "Character name=Jon Snow<br>x=%{x}<br>y=%{y}<extra></extra>",
         "legendgroup": "Jon Snow",
         "marker": {
          "color": "#00cc96",
          "symbol": "circle"
         },
         "mode": "markers",
         "name": "Jon Snow",
         "orientation": "v",
         "showlegend": true,
         "type": "scatter",
         "x": [
          -1.0392706394195557
         ],
         "xaxis": "x",
         "y": [
          -4.697812557220459
         ],
         "yaxis": "y"
        },
        {
         "hovertemplate": "Character name=Daenerys Targaryen<br>x=%{x}<br>y=%{y}<extra></extra>",
         "legendgroup": "Daenerys Targaryen",
         "marker": {
          "color": "#ab63fa",
          "symbol": "circle"
         },
         "mode": "markers",
         "name": "Daenerys Targaryen",
         "orientation": "v",
         "showlegend": true,
         "type": "scatter",
         "x": [
          -0.3272702097892761
         ],
         "xaxis": "x",
         "y": [
          -4.638790607452393
         ],
         "yaxis": "y"
        },
        {
         "hovertemplate": "Character name=Jaime Lannister<br>x=%{x}<br>y=%{y}<extra></extra>",
         "legendgroup": "Jaime Lannister",
         "marker": {
          "color": "#FFA15A",
          "symbol": "circle"
         },
         "mode": "markers",
         "name": "Jaime Lannister",
         "orientation": "v",
         "showlegend": true,
         "type": "scatter",
         "x": [
          -0.8883250951766968
         ],
         "xaxis": "x",
         "y": [
          -4.70331335067749
         ],
         "yaxis": "y"
        },
        {
         "hovertemplate": "Character name=Sansa Stark<br>x=%{x}<br>y=%{y}<extra></extra>",
         "legendgroup": "Sansa Stark",
         "marker": {
          "color": "#19d3f3",
          "symbol": "circle"
         },
         "mode": "markers",
         "name": "Sansa Stark",
         "orientation": "v",
         "showlegend": true,
         "type": "scatter",
         "x": [
          -0.7396174073219299
         ],
         "xaxis": "x",
         "y": [
          -4.413167953491211
         ],
         "yaxis": "y"
        },
        {
         "hovertemplate": "Character name=Petyr Baelish<br>x=%{x}<br>y=%{y}<extra></extra>",
         "legendgroup": "Petyr Baelish",
         "marker": {
          "color": "#FF6692",
          "symbol": "circle"
         },
         "mode": "markers",
         "name": "Petyr Baelish",
         "orientation": "v",
         "showlegend": true,
         "type": "scatter",
         "x": [
          -0.17033478617668152
         ],
         "xaxis": "x",
         "y": [
          -4.292901039123535
         ],
         "yaxis": "y"
        },
        {
         "hovertemplate": "Character name=Lord Varys<br>x=%{x}<br>y=%{y}<extra></extra>",
         "legendgroup": "Lord Varys",
         "marker": {
          "color": "#B6E880",
          "symbol": "circle"
         },
         "mode": "markers",
         "name": "Lord Varys",
         "orientation": "v",
         "showlegend": true,
         "type": "scatter",
         "x": [
          -0.062199387699365616
         ],
         "xaxis": "x",
         "y": [
          -4.190094947814941
         ],
         "yaxis": "y"
        },
        {
         "hovertemplate": "Character name=Davos Seaworth<br>x=%{x}<br>y=%{y}<extra></extra>",
         "legendgroup": "Davos Seaworth",
         "marker": {
          "color": "#FF97FF",
          "symbol": "circle"
         },
         "mode": "markers",
         "name": "Davos Seaworth",
         "orientation": "v",
         "showlegend": true,
         "type": "scatter",
         "x": [
          -0.11193953454494476
         ],
         "xaxis": "x",
         "y": [
          -3.903754949569702
         ],
         "yaxis": "y"
        },
        {
         "hovertemplate": "Character name=Samwell Tarly<br>x=%{x}<br>y=%{y}<extra></extra>",
         "legendgroup": "Samwell Tarly",
         "marker": {
          "color": "#FECB52",
          "symbol": "circle"
         },
         "mode": "markers",
         "name": "Samwell Tarly",
         "orientation": "v",
         "showlegend": true,
         "type": "scatter",
         "x": [
          -0.9961159825325012
         ],
         "xaxis": "x",
         "y": [
          -3.313467264175415
         ],
         "yaxis": "y"
        },
        {
         "hovertemplate": "Character name=Arya Stark<br>x=%{x}<br>y=%{y}<extra></extra>",
         "legendgroup": "Arya Stark",
         "marker": {
          "color": "#636efa",
          "symbol": "circle"
         },
         "mode": "markers",
         "name": "Arya Stark",
         "orientation": "v",
         "showlegend": true,
         "type": "scatter",
         "x": [
          -1.1768715381622314
         ],
         "xaxis": "x",
         "y": [
          -3.7446529865264893
         ],
         "yaxis": "y"
        },
        {
         "hovertemplate": "Character name=Tywin Lannister<br>x=%{x}<br>y=%{y}<extra></extra>",
         "legendgroup": "Tywin Lannister",
         "marker": {
          "color": "#EF553B",
          "symbol": "circle"
         },
         "mode": "markers",
         "name": "Tywin Lannister",
         "orientation": "v",
         "showlegend": true,
         "type": "scatter",
         "x": [
          0.5793914198875427
         ],
         "xaxis": "x",
         "y": [
          -3.43676495552063
         ],
         "yaxis": "y"
        },
        {
         "hovertemplate": "Character name=Theon Greyjoy<br>x=%{x}<br>y=%{y}<extra></extra>",
         "legendgroup": "Theon Greyjoy",
         "marker": {
          "color": "#00cc96",
          "symbol": "circle"
         },
         "mode": "markers",
         "name": "Theon Greyjoy",
         "orientation": "v",
         "showlegend": true,
         "type": "scatter",
         "x": [
          -0.6289499998092651
         ],
         "xaxis": "x",
         "y": [
          -3.4603798389434814
         ],
         "yaxis": "y"
        },
        {
         "hovertemplate": "Character name=Jorah Mormont<br>x=%{x}<br>y=%{y}<extra></extra>",
         "legendgroup": "Jorah Mormont",
         "marker": {
          "color": "#ab63fa",
          "symbol": "circle"
         },
         "mode": "markers",
         "name": "Jorah Mormont",
         "orientation": "v",
         "showlegend": true,
         "type": "scatter",
         "x": [
          1.1784578561782837
         ],
         "xaxis": "x",
         "y": [
          -3.48307728767395
         ],
         "yaxis": "y"
        },
        {
         "hovertemplate": "Character name=Bronn<br>x=%{x}<br>y=%{y}<extra></extra>",
         "legendgroup": "Bronn",
         "marker": {
          "color": "#FFA15A",
          "symbol": "circle"
         },
         "mode": "markers",
         "name": "Bronn",
         "orientation": "v",
         "showlegend": true,
         "type": "scatter",
         "x": [
          -1.5190333127975464
         ],
         "xaxis": "x",
         "y": [
          -2.840128183364868
         ],
         "yaxis": "y"
        },
        {
         "hovertemplate": "Character name=Olenna Tyrell<br>x=%{x}<br>y=%{y}<extra></extra>",
         "legendgroup": "Olenna Tyrell",
         "marker": {
          "color": "#19d3f3",
          "symbol": "circle"
         },
         "mode": "markers",
         "name": "Olenna Tyrell",
         "orientation": "v",
         "showlegend": true,
         "type": "scatter",
         "x": [
          0.8360958695411682
         ],
         "xaxis": "x",
         "y": [
          -1.9948004484176636
         ],
         "yaxis": "y"
        },
        {
         "hovertemplate": "Character name=Brienne of Tarth<br>x=%{x}<br>y=%{y}<extra></extra>",
         "legendgroup": "Brienne of Tarth",
         "marker": {
          "color": "#FF6692",
          "symbol": "circle"
         },
         "mode": "markers",
         "name": "Brienne of Tarth",
         "orientation": "v",
         "showlegend": true,
         "type": "scatter",
         "x": [
          1.1312825679779053
         ],
         "xaxis": "x",
         "y": [
          -2.8789517879486084
         ],
         "yaxis": "y"
        },
        {
         "hovertemplate": "Character name=Sandor Clegane<br>x=%{x}<br>y=%{y}<extra></extra>",
         "legendgroup": "Sandor Clegane",
         "marker": {
          "color": "#B6E880",
          "symbol": "circle"
         },
         "mode": "markers",
         "name": "Sandor Clegane",
         "orientation": "v",
         "showlegend": true,
         "type": "scatter",
         "x": [
          -1.567311406135559
         ],
         "xaxis": "x",
         "y": [
          -2.7641186714172363
         ],
         "yaxis": "y"
        },
        {
         "hovertemplate": "Character name=Robb Stark<br>x=%{x}<br>y=%{y}<extra></extra>",
         "legendgroup": "Robb Stark",
         "marker": {
          "color": "#FF97FF",
          "symbol": "circle"
         },
         "mode": "markers",
         "name": "Robb Stark",
         "orientation": "v",
         "showlegend": true,
         "type": "scatter",
         "x": [
          -0.23298773169517517
         ],
         "xaxis": "x",
         "y": [
          -3.2349610328674316
         ],
         "yaxis": "y"
        },
        {
         "hovertemplate": "Character name=Stannis Baratheon<br>x=%{x}<br>y=%{y}<extra></extra>",
         "legendgroup": "Stannis Baratheon",
         "marker": {
          "color": "#FECB52",
          "symbol": "circle"
         },
         "mode": "markers",
         "name": "Stannis Baratheon",
         "orientation": "v",
         "showlegend": true,
         "type": "scatter",
         "x": [
          0.16840964555740356
         ],
         "xaxis": "x",
         "y": [
          -3.111583709716797
         ],
         "yaxis": "y"
        },
        {
         "hovertemplate": "Character name=Margaery Tyrell<br>x=%{x}<br>y=%{y}<extra></extra>",
         "legendgroup": "Margaery Tyrell",
         "marker": {
          "color": "#636efa",
          "symbol": "circle"
         },
         "mode": "markers",
         "name": "Margaery Tyrell",
         "orientation": "v",
         "showlegend": true,
         "type": "scatter",
         "x": [
          1.5541045665740967
         ],
         "xaxis": "x",
         "y": [
          -2.0422024726867676
         ],
         "yaxis": "y"
        },
        {
         "hovertemplate": "Character name=Catelyn Stark<br>x=%{x}<br>y=%{y}<extra></extra>",
         "legendgroup": "Catelyn Stark",
         "marker": {
          "color": "#EF553B",
          "symbol": "circle"
         },
         "mode": "markers",
         "name": "Catelyn Stark",
         "orientation": "v",
         "showlegend": true,
         "type": "scatter",
         "x": [
          -0.05768206715583801
         ],
         "xaxis": "x",
         "y": [
          -2.9160261154174805
         ],
         "yaxis": "y"
        },
        {
         "hovertemplate": "Character name=Eddard Stark<br>x=%{x}<br>y=%{y}<extra></extra>",
         "legendgroup": "Eddard Stark",
         "marker": {
          "color": "#00cc96",
          "symbol": "circle"
         },
         "mode": "markers",
         "name": "Eddard Stark",
         "orientation": "v",
         "showlegend": true,
         "type": "scatter",
         "x": [
          0.4538445472717285
         ],
         "xaxis": "x",
         "y": [
          -3.075028657913208
         ],
         "yaxis": "y"
        },
        {
         "hovertemplate": "Character name=Ramsay Snow<br>x=%{x}<br>y=%{y}<extra></extra>",
         "legendgroup": "Ramsay Snow",
         "marker": {
          "color": "#ab63fa",
          "symbol": "circle"
         },
         "mode": "markers",
         "name": "Ramsay Snow",
         "orientation": "v",
         "showlegend": true,
         "type": "scatter",
         "x": [
          -0.5321570038795471
         ],
         "xaxis": "x",
         "y": [
          -2.047835111618042
         ],
         "yaxis": "y"
        },
        {
         "hovertemplate": "Character name=Melisandre<br>x=%{x}<br>y=%{y}<extra></extra>",
         "legendgroup": "Melisandre",
         "marker": {
          "color": "#FFA15A",
          "symbol": "circle"
         },
         "mode": "markers",
         "name": "Melisandre",
         "orientation": "v",
         "showlegend": true,
         "type": "scatter",
         "x": [
          -1.6866240501403809
         ],
         "xaxis": "x",
         "y": [
          -0.6683146357536316
         ],
         "yaxis": "y"
        }
       ],
       "layout": {
        "legend": {
         "title": {
          "text": "Character name"
         },
         "tracegroupgap": 0
        },
        "margin": {
         "t": 60
        },
        "template": {
         "data": {
          "bar": [
           {
            "error_x": {
             "color": "#2a3f5f"
            },
            "error_y": {
             "color": "#2a3f5f"
            },
            "marker": {
             "line": {
              "color": "#E5ECF6",
              "width": 0.5
             },
             "pattern": {
              "fillmode": "overlay",
              "size": 10,
              "solidity": 0.2
             }
            },
            "type": "bar"
           }
          ],
          "barpolar": [
           {
            "marker": {
             "line": {
              "color": "#E5ECF6",
              "width": 0.5
             },
             "pattern": {
              "fillmode": "overlay",
              "size": 10,
              "solidity": 0.2
             }
            },
            "type": "barpolar"
           }
          ],
          "carpet": [
           {
            "aaxis": {
             "endlinecolor": "#2a3f5f",
             "gridcolor": "white",
             "linecolor": "white",
             "minorgridcolor": "white",
             "startlinecolor": "#2a3f5f"
            },
            "baxis": {
             "endlinecolor": "#2a3f5f",
             "gridcolor": "white",
             "linecolor": "white",
             "minorgridcolor": "white",
             "startlinecolor": "#2a3f5f"
            },
            "type": "carpet"
           }
          ],
          "choropleth": [
           {
            "colorbar": {
             "outlinewidth": 0,
             "ticks": ""
            },
            "type": "choropleth"
           }
          ],
          "contour": [
           {
            "colorbar": {
             "outlinewidth": 0,
             "ticks": ""
            },
            "colorscale": [
             [
              0,
              "#0d0887"
             ],
             [
              0.1111111111111111,
              "#46039f"
             ],
             [
              0.2222222222222222,
              "#7201a8"
             ],
             [
              0.3333333333333333,
              "#9c179e"
             ],
             [
              0.4444444444444444,
              "#bd3786"
             ],
             [
              0.5555555555555556,
              "#d8576b"
             ],
             [
              0.6666666666666666,
              "#ed7953"
             ],
             [
              0.7777777777777778,
              "#fb9f3a"
             ],
             [
              0.8888888888888888,
              "#fdca26"
             ],
             [
              1,
              "#f0f921"
             ]
            ],
            "type": "contour"
           }
          ],
          "contourcarpet": [
           {
            "colorbar": {
             "outlinewidth": 0,
             "ticks": ""
            },
            "type": "contourcarpet"
           }
          ],
          "heatmap": [
           {
            "colorbar": {
             "outlinewidth": 0,
             "ticks": ""
            },
            "colorscale": [
             [
              0,
              "#0d0887"
             ],
             [
              0.1111111111111111,
              "#46039f"
             ],
             [
              0.2222222222222222,
              "#7201a8"
             ],
             [
              0.3333333333333333,
              "#9c179e"
             ],
             [
              0.4444444444444444,
              "#bd3786"
             ],
             [
              0.5555555555555556,
              "#d8576b"
             ],
             [
              0.6666666666666666,
              "#ed7953"
             ],
             [
              0.7777777777777778,
              "#fb9f3a"
             ],
             [
              0.8888888888888888,
              "#fdca26"
             ],
             [
              1,
              "#f0f921"
             ]
            ],
            "type": "heatmap"
           }
          ],
          "heatmapgl": [
           {
            "colorbar": {
             "outlinewidth": 0,
             "ticks": ""
            },
            "colorscale": [
             [
              0,
              "#0d0887"
             ],
             [
              0.1111111111111111,
              "#46039f"
             ],
             [
              0.2222222222222222,
              "#7201a8"
             ],
             [
              0.3333333333333333,
              "#9c179e"
             ],
             [
              0.4444444444444444,
              "#bd3786"
             ],
             [
              0.5555555555555556,
              "#d8576b"
             ],
             [
              0.6666666666666666,
              "#ed7953"
             ],
             [
              0.7777777777777778,
              "#fb9f3a"
             ],
             [
              0.8888888888888888,
              "#fdca26"
             ],
             [
              1,
              "#f0f921"
             ]
            ],
            "type": "heatmapgl"
           }
          ],
          "histogram": [
           {
            "marker": {
             "pattern": {
              "fillmode": "overlay",
              "size": 10,
              "solidity": 0.2
             }
            },
            "type": "histogram"
           }
          ],
          "histogram2d": [
           {
            "colorbar": {
             "outlinewidth": 0,
             "ticks": ""
            },
            "colorscale": [
             [
              0,
              "#0d0887"
             ],
             [
              0.1111111111111111,
              "#46039f"
             ],
             [
              0.2222222222222222,
              "#7201a8"
             ],
             [
              0.3333333333333333,
              "#9c179e"
             ],
             [
              0.4444444444444444,
              "#bd3786"
             ],
             [
              0.5555555555555556,
              "#d8576b"
             ],
             [
              0.6666666666666666,
              "#ed7953"
             ],
             [
              0.7777777777777778,
              "#fb9f3a"
             ],
             [
              0.8888888888888888,
              "#fdca26"
             ],
             [
              1,
              "#f0f921"
             ]
            ],
            "type": "histogram2d"
           }
          ],
          "histogram2dcontour": [
           {
            "colorbar": {
             "outlinewidth": 0,
             "ticks": ""
            },
            "colorscale": [
             [
              0,
              "#0d0887"
             ],
             [
              0.1111111111111111,
              "#46039f"
             ],
             [
              0.2222222222222222,
              "#7201a8"
             ],
             [
              0.3333333333333333,
              "#9c179e"
             ],
             [
              0.4444444444444444,
              "#bd3786"
             ],
             [
              0.5555555555555556,
              "#d8576b"
             ],
             [
              0.6666666666666666,
              "#ed7953"
             ],
             [
              0.7777777777777778,
              "#fb9f3a"
             ],
             [
              0.8888888888888888,
              "#fdca26"
             ],
             [
              1,
              "#f0f921"
             ]
            ],
            "type": "histogram2dcontour"
           }
          ],
          "mesh3d": [
           {
            "colorbar": {
             "outlinewidth": 0,
             "ticks": ""
            },
            "type": "mesh3d"
           }
          ],
          "parcoords": [
           {
            "line": {
             "colorbar": {
              "outlinewidth": 0,
              "ticks": ""
             }
            },
            "type": "parcoords"
           }
          ],
          "pie": [
           {
            "automargin": true,
            "type": "pie"
           }
          ],
          "scatter": [
           {
            "fillpattern": {
             "fillmode": "overlay",
             "size": 10,
             "solidity": 0.2
            },
            "type": "scatter"
           }
          ],
          "scatter3d": [
           {
            "line": {
             "colorbar": {
              "outlinewidth": 0,
              "ticks": ""
             }
            },
            "marker": {
             "colorbar": {
              "outlinewidth": 0,
              "ticks": ""
             }
            },
            "type": "scatter3d"
           }
          ],
          "scattercarpet": [
           {
            "marker": {
             "colorbar": {
              "outlinewidth": 0,
              "ticks": ""
             }
            },
            "type": "scattercarpet"
           }
          ],
          "scattergeo": [
           {
            "marker": {
             "colorbar": {
              "outlinewidth": 0,
              "ticks": ""
             }
            },
            "type": "scattergeo"
           }
          ],
          "scattergl": [
           {
            "marker": {
             "colorbar": {
              "outlinewidth": 0,
              "ticks": ""
             }
            },
            "type": "scattergl"
           }
          ],
          "scattermapbox": [
           {
            "marker": {
             "colorbar": {
              "outlinewidth": 0,
              "ticks": ""
             }
            },
            "type": "scattermapbox"
           }
          ],
          "scatterpolar": [
           {
            "marker": {
             "colorbar": {
              "outlinewidth": 0,
              "ticks": ""
             }
            },
            "type": "scatterpolar"
           }
          ],
          "scatterpolargl": [
           {
            "marker": {
             "colorbar": {
              "outlinewidth": 0,
              "ticks": ""
             }
            },
            "type": "scatterpolargl"
           }
          ],
          "scatterternary": [
           {
            "marker": {
             "colorbar": {
              "outlinewidth": 0,
              "ticks": ""
             }
            },
            "type": "scatterternary"
           }
          ],
          "surface": [
           {
            "colorbar": {
             "outlinewidth": 0,
             "ticks": ""
            },
            "colorscale": [
             [
              0,
              "#0d0887"
             ],
             [
              0.1111111111111111,
              "#46039f"
             ],
             [
              0.2222222222222222,
              "#7201a8"
             ],
             [
              0.3333333333333333,
              "#9c179e"
             ],
             [
              0.4444444444444444,
              "#bd3786"
             ],
             [
              0.5555555555555556,
              "#d8576b"
             ],
             [
              0.6666666666666666,
              "#ed7953"
             ],
             [
              0.7777777777777778,
              "#fb9f3a"
             ],
             [
              0.8888888888888888,
              "#fdca26"
             ],
             [
              1,
              "#f0f921"
             ]
            ],
            "type": "surface"
           }
          ],
          "table": [
           {
            "cells": {
             "fill": {
              "color": "#EBF0F8"
             },
             "line": {
              "color": "white"
             }
            },
            "header": {
             "fill": {
              "color": "#C8D4E3"
             },
             "line": {
              "color": "white"
             }
            },
            "type": "table"
           }
          ]
         },
         "layout": {
          "annotationdefaults": {
           "arrowcolor": "#2a3f5f",
           "arrowhead": 0,
           "arrowwidth": 1
          },
          "autotypenumbers": "strict",
          "coloraxis": {
           "colorbar": {
            "outlinewidth": 0,
            "ticks": ""
           }
          },
          "colorscale": {
           "diverging": [
            [
             0,
             "#8e0152"
            ],
            [
             0.1,
             "#c51b7d"
            ],
            [
             0.2,
             "#de77ae"
            ],
            [
             0.3,
             "#f1b6da"
            ],
            [
             0.4,
             "#fde0ef"
            ],
            [
             0.5,
             "#f7f7f7"
            ],
            [
             0.6,
             "#e6f5d0"
            ],
            [
             0.7,
             "#b8e186"
            ],
            [
             0.8,
             "#7fbc41"
            ],
            [
             0.9,
             "#4d9221"
            ],
            [
             1,
             "#276419"
            ]
           ],
           "sequential": [
            [
             0,
             "#0d0887"
            ],
            [
             0.1111111111111111,
             "#46039f"
            ],
            [
             0.2222222222222222,
             "#7201a8"
            ],
            [
             0.3333333333333333,
             "#9c179e"
            ],
            [
             0.4444444444444444,
             "#bd3786"
            ],
            [
             0.5555555555555556,
             "#d8576b"
            ],
            [
             0.6666666666666666,
             "#ed7953"
            ],
            [
             0.7777777777777778,
             "#fb9f3a"
            ],
            [
             0.8888888888888888,
             "#fdca26"
            ],
            [
             1,
             "#f0f921"
            ]
           ],
           "sequentialminus": [
            [
             0,
             "#0d0887"
            ],
            [
             0.1111111111111111,
             "#46039f"
            ],
            [
             0.2222222222222222,
             "#7201a8"
            ],
            [
             0.3333333333333333,
             "#9c179e"
            ],
            [
             0.4444444444444444,
             "#bd3786"
            ],
            [
             0.5555555555555556,
             "#d8576b"
            ],
            [
             0.6666666666666666,
             "#ed7953"
            ],
            [
             0.7777777777777778,
             "#fb9f3a"
            ],
            [
             0.8888888888888888,
             "#fdca26"
            ],
            [
             1,
             "#f0f921"
            ]
           ]
          },
          "colorway": [
           "#636efa",
           "#EF553B",
           "#00cc96",
           "#ab63fa",
           "#FFA15A",
           "#19d3f3",
           "#FF6692",
           "#B6E880",
           "#FF97FF",
           "#FECB52"
          ],
          "font": {
           "color": "#2a3f5f"
          },
          "geo": {
           "bgcolor": "white",
           "lakecolor": "white",
           "landcolor": "#E5ECF6",
           "showlakes": true,
           "showland": true,
           "subunitcolor": "white"
          },
          "hoverlabel": {
           "align": "left"
          },
          "hovermode": "closest",
          "mapbox": {
           "style": "light"
          },
          "paper_bgcolor": "white",
          "plot_bgcolor": "#E5ECF6",
          "polar": {
           "angularaxis": {
            "gridcolor": "white",
            "linecolor": "white",
            "ticks": ""
           },
           "bgcolor": "#E5ECF6",
           "radialaxis": {
            "gridcolor": "white",
            "linecolor": "white",
            "ticks": ""
           }
          },
          "scene": {
           "xaxis": {
            "backgroundcolor": "#E5ECF6",
            "gridcolor": "white",
            "gridwidth": 2,
            "linecolor": "white",
            "showbackground": true,
            "ticks": "",
            "zerolinecolor": "white"
           },
           "yaxis": {
            "backgroundcolor": "#E5ECF6",
            "gridcolor": "white",
            "gridwidth": 2,
            "linecolor": "white",
            "showbackground": true,
            "ticks": "",
            "zerolinecolor": "white"
           },
           "zaxis": {
            "backgroundcolor": "#E5ECF6",
            "gridcolor": "white",
            "gridwidth": 2,
            "linecolor": "white",
            "showbackground": true,
            "ticks": "",
            "zerolinecolor": "white"
           }
          },
          "shapedefaults": {
           "line": {
            "color": "#2a3f5f"
           }
          },
          "ternary": {
           "aaxis": {
            "gridcolor": "white",
            "linecolor": "white",
            "ticks": ""
           },
           "baxis": {
            "gridcolor": "white",
            "linecolor": "white",
            "ticks": ""
           },
           "bgcolor": "#E5ECF6",
           "caxis": {
            "gridcolor": "white",
            "linecolor": "white",
            "ticks": ""
           }
          },
          "title": {
           "x": 0.05
          },
          "xaxis": {
           "automargin": true,
           "gridcolor": "white",
           "linecolor": "white",
           "ticks": "",
           "title": {
            "standoff": 15
           },
           "zerolinecolor": "white",
           "zerolinewidth": 2
          },
          "yaxis": {
           "automargin": true,
           "gridcolor": "white",
           "linecolor": "white",
           "ticks": "",
           "title": {
            "standoff": 15
           },
           "zerolinecolor": "white",
           "zerolinewidth": 2
          }
         }
        },
        "xaxis": {
         "anchor": "y",
         "domain": [
          0,
          1
         ],
         "title": {
          "text": "x"
         }
        },
        "yaxis": {
         "anchor": "x",
         "domain": [
          0,
          1
         ],
         "title": {
          "text": "y"
         }
        }
       }
      }
     },
     "metadata": {},
     "output_type": "display_data"
    }
   ],
   "source": [
    "import plotly.express as px\n",
    "fig = px.scatter(new_df.head(25), x = \"x\", y=\"y\", color=\"Character name\")\n",
    "fig.show()"
   ]
  },
  {
   "cell_type": "code",
   "execution_count": null,
   "metadata": {},
   "outputs": [],
   "source": []
  }
 ],
 "metadata": {
  "kernelspec": {
   "display_name": "base",
   "language": "python",
   "name": "python3"
  },
  "language_info": {
   "codemirror_mode": {
    "name": "ipython",
    "version": 3
   },
   "file_extension": ".py",
   "mimetype": "text/x-python",
   "name": "python",
   "nbconvert_exporter": "python",
   "pygments_lexer": "ipython3",
   "version": "3.11.9"
  }
 },
 "nbformat": 4,
 "nbformat_minor": 2
}
